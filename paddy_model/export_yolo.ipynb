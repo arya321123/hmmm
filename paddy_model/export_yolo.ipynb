{
 "cells": [
  {
   "cell_type": "code",
   "execution_count": 1,
   "metadata": {},
   "outputs": [
    {
     "name": "stderr",
     "output_type": "stream",
     "text": [
      "Ultralytics YOLOv8.0.203  Python-3.9.18 torch-2.1.0+cpu CPU (Intel Core(TM) i3-1005G1 1.20GHz)\n",
      "YOLOv8n summary (fused): 168 layers, 3006818 parameters, 0 gradients, 8.1 GFLOPs\n",
      "\n",
      "\u001b[34m\u001b[1mPyTorch:\u001b[0m starting from 'D:\\Perkuliahan\\projek orbit\\paddy_yolo\\hasil_pelatihan2\\percobaan2\\weights\\best.pt' with input shape (1, 3, 640, 640) BCHW and output shape(s) (1, 10, 8400) (6.0 MB)\n",
      "\n",
      "\u001b[34m\u001b[1mTensorFlow SavedModel:\u001b[0m starting export with tensorflow 2.11.1...\n",
      "\n",
      "\u001b[34m\u001b[1mONNX:\u001b[0m starting export with onnx 1.15.0 opset 17...\n",
      "\u001b[34m\u001b[1mONNX:\u001b[0m simplifying with onnxsim 0.4.35...\n",
      "\u001b[34m\u001b[1mONNX:\u001b[0m export success  2.6s, saved as 'D:\\Perkuliahan\\projek orbit\\paddy_yolo\\hasil_pelatihan2\\percobaan2\\weights\\best.onnx' (11.6 MB)\n",
      "\u001b[34m\u001b[1mTensorFlow SavedModel:\u001b[0m running 'onnx2tf -i \"D:\\Perkuliahan\\projek orbit\\paddy_yolo\\hasil_pelatihan2\\percobaan2\\weights\\best.onnx\" -o \"D:\\Perkuliahan\\projek orbit\\paddy_yolo\\hasil_pelatihan2\\percobaan2\\weights\\best_saved_model\" -nuo --non_verbose'\n",
      "\u001b[34m\u001b[1mTensorFlow SavedModel:\u001b[0m export success  42.2s, saved as 'D:\\Perkuliahan\\projek orbit\\paddy_yolo\\hasil_pelatihan2\\percobaan2\\weights\\best_saved_model' (29.2 MB)\n",
      "\n",
      "\u001b[34m\u001b[1mTensorFlow GraphDef:\u001b[0m starting export with tensorflow 2.11.1...\n"
     ]
    },
    {
     "name": "stdout",
     "output_type": "stream",
     "text": [
      "WARNING:tensorflow:From c:\\Users\\Muhammad Ridho P\\miniconda3\\envs\\growth\\lib\\site-packages\\tensorflow\\python\\autograph\\pyct\\static_analysis\\liveness.py:83: Analyzer.lamba_check (from tensorflow.python.autograph.pyct.static_analysis.liveness) is deprecated and will be removed after 2023-09-23.\n",
      "Instructions for updating:\n",
      "Lambda fuctions will be no more assumed to be used in the statement where they are used, or at least in the same block. https://github.com/tensorflow/tensorflow/issues/56089\n"
     ]
    },
    {
     "name": "stderr",
     "output_type": "stream",
     "text": [
      "\u001b[34m\u001b[1mTensorFlow GraphDef:\u001b[0m export success  1.2s, saved as 'D:\\Perkuliahan\\projek orbit\\paddy_yolo\\hasil_pelatihan2\\percobaan2\\weights\\best.pb' (11.7 MB)\n",
      "\n",
      "\u001b[34m\u001b[1mTensorFlow.js:\u001b[0m starting export with tensorflowjs 3.21.0...\n",
      "\n",
      "\u001b[34m\u001b[1mTensorFlow.js:\u001b[0m output node names: Identity:0\n",
      "\u001b[34m\u001b[1mTensorFlow.js:\u001b[0m running 'tensorflowjs_converter --input_format=tf_frozen_model --output_node_names=Identity:0 \"C:\\Users\\MUHAMM~1\\AppData\\Local\\Temp\\tmpe4c6302q\\best.pb\" \"C:\\Users\\MUHAMM~1\\AppData\\Local\\Temp\\tmp9d7lqk8g\\best_web_model\"'\n",
      "\u001b[34m\u001b[1mTensorFlow.js:\u001b[0m WARNING  your model may not work correctly with spaces in path 'D:\\Perkuliahan\\projek orbit\\paddy_yolo\\hasil_pelatihan2\\percobaan2\\weights\\best_web_model'.\n",
      "\u001b[34m\u001b[1mTensorFlow.js:\u001b[0m export success  0.5s, saved as 'D:\\Perkuliahan\\projek orbit\\paddy_yolo\\hasil_pelatihan2\\percobaan2\\weights\\best_web_model' (0.0 MB)\n",
      "\n",
      "Export complete (47.1s)\n",
      "Results saved to \u001b[1mD:\\Perkuliahan\\projek orbit\\paddy_yolo\\hasil_pelatihan2\\percobaan2\\weights\u001b[0m\n",
      "Predict:         yolo predict task=detect model=D:\\Perkuliahan\\projek orbit\\paddy_yolo\\hasil_pelatihan2\\percobaan2\\weights\\best_web_model imgsz=640  \n",
      "Validate:        yolo val task=detect model=D:\\Perkuliahan\\projek orbit\\paddy_yolo\\hasil_pelatihan2\\percobaan2\\weights\\best_web_model imgsz=640 data=D:/Perkuliahan/projek orbit/paddy_yolo/dataset_paddy.yaml  \n",
      "Visualize:       https://netron.app\n"
     ]
    },
    {
     "data": {
      "text/plain": [
       "'D:\\\\Perkuliahan\\\\projek orbit\\\\paddy_yolo\\\\hasil_pelatihan2\\\\percobaan2\\\\weights\\\\best_web_model'"
      ]
     },
     "execution_count": 1,
     "metadata": {},
     "output_type": "execute_result"
    }
   ],
   "source": [
    "#from ultralytics import YOLO\n",
    "\n",
    "# Load a model\n",
    "# model = YOLO('.../best.pt')  # load an official model\n",
    "\n",
    "# Export the model\n",
    "# model.export(format='tfjs', nms = True)"
   ]
  },
  {
   "cell_type": "code",
   "execution_count": 2,
   "metadata": {},
   "outputs": [],
   "source": [
    "# Predict \n",
    "\n",
    "# results = model.predict(source = \"path dataset', name = \"Nama Hasil Uji\" )"
   ]
  }
 ],
 "metadata": {
  "kernelspec": {
   "display_name": "growth",
   "language": "python",
   "name": "python3"
  },
  "language_info": {
   "codemirror_mode": {
    "name": "ipython",
    "version": 3
   },
   "file_extension": ".py",
   "mimetype": "text/x-python",
   "name": "python",
   "nbconvert_exporter": "python",
   "pygments_lexer": "ipython3",
   "version": "3.9.18"
  }
 },
 "nbformat": 4,
 "nbformat_minor": 2
}
